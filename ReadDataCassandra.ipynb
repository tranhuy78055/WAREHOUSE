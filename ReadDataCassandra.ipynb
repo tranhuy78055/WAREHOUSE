{
 "cells": [
  {
   "cell_type": "code",
   "execution_count": 1,
   "id": "1417dfc9-9875-4c40-b999-3b5b8c0cf5e0",
   "metadata": {
    "scrolled": true
   },
   "outputs": [],
   "source": [
    "from pyspark.sql import SparkSession"
   ]
  },
  {
   "cell_type": "code",
   "execution_count": 2,
   "id": "fc33a9c6-b408-40a4-b4a8-3499fe08fab0",
   "metadata": {},
   "outputs": [
    {
     "name": "stderr",
     "output_type": "stream",
     "text": [
      "Setting default log level to \"WARN\".\n",
      "To adjust logging level use sc.setLogLevel(newLevel). For SparkR, use setLogLevel(newLevel).\n",
      "23/12/16 12:55:39 WARN NativeCodeLoader: Unable to load native-hadoop library for your platform... using builtin-java classes where applicable\n"
     ]
    }
   ],
   "source": [
    "# Khởi tạo SparkSession\n",
    "spark = SparkSession \\\n",
    "    .builder \\\n",
    "    .appName(\"Read Data From Cassandra\") \\\n",
    "    .config(\"spark.master\", \"spark://192.168.1.105:7077\") \\\n",
    "    .getOrCreate()\n"
   ]
  },
  {
   "cell_type": "code",
   "execution_count": 3,
   "id": "4406c392-2dc9-4395-a09c-04200ea8ffef",
   "metadata": {},
   "outputs": [
    {
     "name": "stderr",
     "output_type": "stream",
     "text": [
      "                                                                                \r"
     ]
    }
   ],
   "source": [
    "# Đọc dữ liệu từ CSV\n",
    "df = spark.read.csv(\"hdfs://192.168.1.105:9000/datacsv/4-Salary_Data_Based_country_and_race.csv\", header=True, inferSchema=True)"
   ]
  },
  {
   "cell_type": "markdown",
   "id": "227a96eb-c4c2-42d6-bf91-3c80c2df83f3",
   "metadata": {},
   "source": [
    "tạo một SparkSession với tên ứng dụng là \"MyApp\". SparkSession là một phần quan trọng trong PySpark, vì nó cung cấp môi trường để thực hiện các phân tích và xử lý dữ liệu sử dụng các tính năng mạnh mẽ của Apache Spark. Sau khi có một SparkSession, bạn có thể sử dụng nó để tạo và quản lý các DataFrame, thực hiện các truy vấn SQL, và thực hiện nhiều công việc xử lý dữ liệu khác."
   ]
  },
  {
   "cell_type": "code",
   "execution_count": 4,
   "id": "94900b2d-92df-426e-b6b1-657a45bf4856",
   "metadata": {},
   "outputs": [
    {
     "name": "stderr",
     "output_type": "stream",
     "text": [
      "[Stage 2:>                                                          (0 + 1) / 1]\r"
     ]
    },
    {
     "name": "stdout",
     "output_type": "stream",
     "text": [
      "+---+---+------+--------------+--------------------+-----------------+------+---------+----------------+\n",
      "| id|Age|Gender|EducationLevel|            JobTitle|YearsofExperience|Salary|  Country|            Race|\n",
      "+---+---+------+--------------+--------------------+-----------------+------+---------+----------------+\n",
      "|  0| 32|  Male|    Bachelor's|   Software Engineer|              5.0| 90000|       UK|           White|\n",
      "|  1| 28|Female|      Master's|        Data Analyst|              3.0| 65000|      USA|        Hispanic|\n",
      "|  2| 45|  Male|           PhD|      Senior Manager|             15.0|150000|   Canada|           White|\n",
      "|  3| 36|Female|    Bachelor's|     Sales Associate|              7.0| 60000|      USA|        Hispanic|\n",
      "|  4| 52|  Male|      Master's|            Director|             20.0|200000|      USA|           Asian|\n",
      "|  5| 29|  Male|    Bachelor's|   Marketing Analyst|              2.0| 55000|      USA|        Hispanic|\n",
      "|  6| 42|Female|      Master's|     Product Manager|             12.0|120000|      USA|           Asian|\n",
      "|  7| 31|  Male|    Bachelor's|       Sales Manager|              4.0| 80000|    China|          Korean|\n",
      "|  8| 26|Female|    Bachelor's|Marketing Coordin...|              1.0| 45000|    China|         Chinese|\n",
      "|  9| 38|  Male|           PhD|    Senior Scientist|             10.0|110000|Australia|      Australian|\n",
      "| 10| 29|  Male|      Master's|  Software Developer|              3.0| 75000|       UK|           Welsh|\n",
      "| 11| 48|Female|    Bachelor's|          HR Manager|             18.0|140000|       UK|           Asian|\n",
      "| 12| 35|  Male|    Bachelor's|   Financial Analyst|              6.0| 65000|    China|          Korean|\n",
      "| 13| 40|Female|      Master's|     Project Manager|             14.0|130000|      USA|African American|\n",
      "| 14| 27|  Male|    Bachelor's|Customer Service Rep|              2.0| 40000|   Canada|           Asian|\n",
      "| 15| 44|  Male|    Bachelor's|  Operations Manager|             16.0|125000|    China|         Chinese|\n",
      "| 16| 33|Female|      Master's|   Marketing Manager|              7.0| 90000|      USA|           Asian|\n",
      "| 17| 39|  Male|           PhD|     Senior Engineer|             12.0|115000|       UK|           Mixed|\n",
      "| 18| 25|Female|    Bachelor's|    Data Entry Clerk|              0.0| 35000|       UK|           Asian|\n",
      "| 19| 51|  Male|    Bachelor's|      Sales Director|             22.0|180000|Australia|           Asian|\n",
      "+---+---+------+--------------+--------------------+-----------------+------+---------+----------------+\n",
      "only showing top 20 rows\n",
      "\n"
     ]
    },
    {
     "name": "stderr",
     "output_type": "stream",
     "text": [
      "                                                                                \r"
     ]
    }
   ],
   "source": [
    "# Hiển thị dữ liệu để xác nhận\n",
    "df.show()"
   ]
  },
  {
   "cell_type": "code",
   "execution_count": 8,
   "id": "62958d2f-e059-409c-a90b-e995788d613c",
   "metadata": {},
   "outputs": [
    {
     "name": "stderr",
     "output_type": "stream",
     "text": [
      "                                                                                \r"
     ]
    }
   ],
   "source": [
    "df.write.parquet(\"hdfs://192.168.1.105:9000/datalake/data1612\", mode=\"overwrite\")"
   ]
  },
  {
   "cell_type": "code",
   "execution_count": 9,
   "id": "4d7dc52c-c92c-4444-b21d-e6b11b4fdb28",
   "metadata": {},
   "outputs": [],
   "source": [
    "spark.stop()"
   ]
  },
  {
   "cell_type": "code",
   "execution_count": null,
   "id": "804d9b84-fc26-40a2-920b-b017bcb01131",
   "metadata": {},
   "outputs": [],
   "source": []
  },
  {
   "cell_type": "code",
   "execution_count": null,
   "id": "2db022f1-6d2d-4065-a99e-55a5576c59d2",
   "metadata": {},
   "outputs": [],
   "source": []
  },
  {
   "cell_type": "code",
   "execution_count": null,
   "id": "59e92a41-6f91-4031-8dac-cca18a4fa12a",
   "metadata": {},
   "outputs": [],
   "source": []
  },
  {
   "cell_type": "code",
   "execution_count": null,
   "id": "81873ba9-64f9-48e1-b1dd-30f4fe674634",
   "metadata": {},
   "outputs": [],
   "source": []
  },
  {
   "cell_type": "code",
   "execution_count": null,
   "id": "7d2a3528-34c7-411b-82f6-b59e27536a98",
   "metadata": {},
   "outputs": [],
   "source": []
  },
  {
   "cell_type": "code",
   "execution_count": null,
   "id": "a40bc16b-eb05-499f-b762-559e4446dae9",
   "metadata": {
    "scrolled": true
   },
   "outputs": [],
   "source": []
  },
  {
   "cell_type": "code",
   "execution_count": null,
   "id": "5183c373-ea73-4ca7-b7bc-5f83dd3ae602",
   "metadata": {},
   "outputs": [],
   "source": []
  },
  {
   "cell_type": "code",
   "execution_count": null,
   "id": "1e97f01c-0c84-492a-88fa-9375fc1189c4",
   "metadata": {},
   "outputs": [],
   "source": []
  },
  {
   "cell_type": "code",
   "execution_count": null,
   "id": "9e436347-623d-4656-b8dc-d2858a5a9c87",
   "metadata": {},
   "outputs": [],
   "source": []
  },
  {
   "cell_type": "code",
   "execution_count": null,
   "id": "08b2377d-1ec4-4137-b6b0-ffda79147cdf",
   "metadata": {},
   "outputs": [],
   "source": []
  },
  {
   "cell_type": "code",
   "execution_count": null,
   "id": "c8b8f5bd-34c0-4e7d-937b-aa3265ee5709",
   "metadata": {},
   "outputs": [],
   "source": []
  },
  {
   "cell_type": "code",
   "execution_count": null,
   "id": "9d422125-2a5e-4e3e-92bf-8a86cd131e42",
   "metadata": {},
   "outputs": [],
   "source": []
  },
  {
   "cell_type": "code",
   "execution_count": 14,
   "id": "b3da5541-8899-44bf-bff8-d88ac23a6883",
   "metadata": {},
   "outputs": [],
   "source": []
  },
  {
   "cell_type": "code",
   "execution_count": null,
   "id": "ec1c2be8-e5ef-41b8-8dd7-a7b21e5c8ecf",
   "metadata": {},
   "outputs": [],
   "source": []
  }
 ],
 "metadata": {
  "kernelspec": {
   "display_name": "Python 3 (ipykernel)",
   "language": "python",
   "name": "python3"
  },
  "language_info": {
   "codemirror_mode": {
    "name": "ipython",
    "version": 3
   },
   "file_extension": ".py",
   "mimetype": "text/x-python",
   "name": "python",
   "nbconvert_exporter": "python",
   "pygments_lexer": "ipython3",
   "version": "3.10.12"
  }
 },
 "nbformat": 4,
 "nbformat_minor": 5
}
